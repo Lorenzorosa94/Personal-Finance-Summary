{
 "cells": [
  {
   "cell_type": "markdown",
   "metadata": {},
   "source": [
    "## Problem Statement: \n",
    "### Take the data from all of the user's bank accounts (using Yolt app export of transactions csv file), modify the data to edit wrong categorisation and create a web page to show charts summarising personal expenses and net worth"
   ]
  },
  {
   "cell_type": "code",
   "execution_count": null,
   "metadata": {},
   "outputs": [],
   "source": [
    "import pandas as pd                       #to perform data manipulation and analysis\n",
    "import numpy as np                        #to cleanse data\n",
    "from datetime import datetime             #to manipulate dates\n",
    "import plotly.express as px               #to create interactive charts\n",
    "import plotly.graph_objects as go         #to create interactive charts\n",
    "from jupyter_dash import JupyterDash      #to build Dash apps from Jupyter environments\n",
    "import dash_core_components as dcc        #to get components for interactive user interfaces\n",
    "import dash_html_components as html       #to compose the dash layout using Python structures"
   ]
  },
  {
   "cell_type": "code",
   "execution_count": null,
   "metadata": {},
   "outputs": [],
   "source": [
    "\n"
   ]
  },
  {
   "cell_type": "markdown",
   "metadata": {},
   "source": [
    "#### Open old transaction file"
   ]
  },
  {
   "cell_type": "code",
   "execution_count": null,
   "metadata": {
    "scrolled": true
   },
   "outputs": [],
   "source": [
    "df = pd.read_csv(\"transactions.csv\") \n",
    "df[6:10]"
   ]
  },
  {
   "cell_type": "code",
   "execution_count": null,
   "metadata": {},
   "outputs": [],
   "source": [
    "\n",
    "\n",
    "\n"
   ]
  },
  {
   "cell_type": "markdown",
   "metadata": {},
   "source": [
    "#### Data Preprocessing"
   ]
  },
  {
   "cell_type": "code",
   "execution_count": null,
   "metadata": {},
   "outputs": [],
   "source": []
  },
  {
   "cell_type": "code",
   "execution_count": null,
   "metadata": {
    "scrolled": false
   },
   "outputs": [],
   "source": [
    "df.drop('account_id', axis=1, inplace=True)\n",
    "\n",
    "df.drop('transaction_id', axis=1, inplace=True)\n",
    "\n",
    "df['category'] = np.where(df['description'].str.contains('Lorenzo Rosa'),'Internal', df['category'] )\n",
    "\n",
    "#Remove rows containing specific strings\n",
    "df = df[df.category != \"Internal\"]   \n",
    "df = df[df.description != \"Exchanged to EUR\"] \n",
    "df = df[df.description != \"Exchanged to GBP\"]    \n",
    "df = df[df.category != \"Investments\"] \n",
    "df = df[df.description != \"To GBP Savings\"] \n",
    "df = df[df.description != \"From GBP Savings\"]     #check'Exchanged from and to GBP'\n",
    "\n",
    "#Personalise your categories\n",
    "df['category'] = np.where(df['description'].str.contains('Amazon|AMAZON|Amz'),'Materialistic Desire', df['category'])\n",
    "\n",
    "df['category'] = np.where(df['description'].str.contains('Gym|GYM|Thenx|Footy|Sporting'),'Sport', df['category'] )\n",
    "\n",
    "df['category'] = np.where(df['description'].str.contains('George MacLean'),'Rent&Bills', df['category'] )\n",
    "\n",
    "df['category'] = np.where(df['description'].str.contains('UBER|Uber|uber|ZIPCAR|Zipcar|bird|Lim|TFL TRAVEL|Tfl Travel Charge|Ewa'), 'Transport', df['category'] )\n",
    "\n",
    "df['category'] = np.where(df['description'].str.contains('Wooden|Hackney Cycles'),'Materialistic Desire', df['category'] )\n",
    "\n",
    "df['category'] = np.where(df['description'].str.contains('itunes|apple|ODEON|Odeon'),'Entertainment', df['category'] )\n",
    "\n",
    "df['category'] = np.where(df['description'].str.contains('Airbnb|Ryanair|Trainline|trainline|Booking|Flixbus'),'Travel', df['category'] )\n",
    "\n",
    "df['category'] = np.where(df['merchant'] == 'Cash Withdrawal', 'Cash Withdrawal', df['category'])\n",
    "\n",
    "df.shape\n",
    "\n",
    "\n",
    "df['category'] = np.where(df['description'].str.contains('Uber|Zipcar|Bird'),'Transport',df['category'])\n"
   ]
  },
  {
   "cell_type": "code",
   "execution_count": null,
   "metadata": {
    "scrolled": true
   },
   "outputs": [],
   "source": [
    "#value = 'To '\n",
    "df['starts'] = list( \n",
    "    map(lambda x: x.startswith('To '), df['description'])) \n",
    "\n",
    "df.loc[df.starts == True, 'category'] = \"Transfer\"\n",
    "df.drop('starts', axis=1, inplace=True)\n"
   ]
  },
  {
   "cell_type": "code",
   "execution_count": null,
   "metadata": {},
   "outputs": [],
   "source": [
    "df.category.replace([\"Bills\", \"Expenses\", \"General\", \"Housing\", \"Leisure\"], \"Other\",inplace=True)\n",
    "df.category.replace([\"Coffee\", \"Eating out\", \"Takeaway\", \"Lunch\"], \"Food\",inplace=True)\n",
    "df.category.replace(\"Education\", \"Personal Improvement\",inplace=True)\n",
    "df.category.replace(\"Drinks\", \"Entertainment\",inplace=True)\n",
    "df.category.replace(\"Petrol\", \"Transport\",inplace=True)\n",
    "df.category.replace(\"Shopping\", \"Materialistic Desire\",inplace=True)\n",
    "df.category.replace(\"Transfers\", \"Transfer\",inplace=True)\n",
    "df.category.replace(\"Cash\", \"Cash Withdrawal\",inplace=True)\n",
    "df.category.replace(\"Personal Improvement\", \"Self Improvement\",inplace=True)\n"
   ]
  },
  {
   "cell_type": "code",
   "execution_count": null,
   "metadata": {},
   "outputs": [],
   "source": [
    "#to remove\n",
    "df.head(5)"
   ]
  },
  {
   "cell_type": "code",
   "execution_count": null,
   "metadata": {
    "scrolled": true
   },
   "outputs": [],
   "source": [
    "df['date'] = pd.to_datetime(df['date'])\n",
    "df['year_month'] = df['date'].dt.strftime('%Y-%m')\n",
    "df\n",
    "df.head(5)"
   ]
  },
  {
   "cell_type": "code",
   "execution_count": null,
   "metadata": {},
   "outputs": [],
   "source": [
    "\n",
    "\n"
   ]
  },
  {
   "cell_type": "markdown",
   "metadata": {},
   "source": [
    "#### Export cleansed csv file"
   ]
  },
  {
   "cell_type": "code",
   "execution_count": null,
   "metadata": {},
   "outputs": [],
   "source": [
    "#filename = datetime.now().strftime(\"%Y-%m-%d-%H-%M.csv\")\n",
    "\n",
    "#path = \"C:/Users/lorenzorosa/Desktop/Python Files/Personal Budget/NewTransactionFile \" +   filename \n",
    "#df.to_csv (path)\n"
   ]
  },
  {
   "cell_type": "code",
   "execution_count": null,
   "metadata": {},
   "outputs": [],
   "source": [
    "\n",
    "\n"
   ]
  },
  {
   "cell_type": "markdown",
   "metadata": {},
   "source": [
    "#### Net Worth Over Time Chart"
   ]
  },
  {
   "cell_type": "code",
   "execution_count": null,
   "metadata": {},
   "outputs": [],
   "source": [
    "Net_Worth_Table = df.groupby('year_month')['amount'].sum().reset_index(name ='sum')\n",
    "Net_Worth_Table['cumulative sum'] = Net_Worth_Table['sum'].cumsum()\n",
    "Net_Worth_Table"
   ]
  },
  {
   "cell_type": "code",
   "execution_count": null,
   "metadata": {
    "scrolled": false
   },
   "outputs": [],
   "source": [
    "Net_Worth_Chart = go.Figure(\n",
    "    data = go.Scatter(x = Net_Worth_Table[\"year_month\"], y = Net_Worth_Table[\"cumulative sum\"]),\n",
    "    layout = go.Layout(\n",
    "        title = go.layout.Title(text=\"Net Worth Over Time\")\n",
    "    )\n",
    ")\n",
    "Net_Worth_Chart.update_layout(\n",
    "    xaxis_title = \"Date\",\n",
    "    yaxis_title = \"Net Worth (£)\",\n",
    "    hovermode = 'x unified'\n",
    "    )\n",
    "Net_Worth_Chart.update_xaxes(\n",
    "    tickangle = 45)\n",
    "Net_Worth_Chart.show()"
   ]
  },
  {
   "cell_type": "code",
   "execution_count": null,
   "metadata": {},
   "outputs": [],
   "source": [
    "\n",
    "\n",
    "\n"
   ]
  },
  {
   "cell_type": "markdown",
   "metadata": {},
   "source": [
    "#### Total Monthly Expenses Chart"
   ]
  },
  {
   "cell_type": "code",
   "execution_count": null,
   "metadata": {},
   "outputs": [],
   "source": [
    "df = df[df.category != \"Income\"] \n",
    "df.amount = df.amount*(-1) "
   ]
  },
  {
   "cell_type": "code",
   "execution_count": null,
   "metadata": {
    "scrolled": true
   },
   "outputs": [],
   "source": [
    "Total_Monthly_Expenses_Table = df.groupby('year_month')['amount'].sum().reset_index(name='sum')\n",
    "Total_Monthly_Expenses_Table = Total_Monthly_Expenses_Table.rename(columns={'year_month': 'DATE', 'sum': 'TOTAL EXPENSE'})\n",
    "Total_Monthly_Expenses_Table"
   ]
  },
  {
   "cell_type": "code",
   "execution_count": null,
   "metadata": {},
   "outputs": [],
   "source": [
    "Total_Monthly_Expenses_Chart = px.bar(Total_Monthly_Expenses_Table, x=\"DATE\", y=\"TOTAL EXPENSE\",title=\"Total Monthly Expenses\")\n",
    "Total_Monthly_Expenses_Chart.update_yaxes(title='Expenses (£)', visible=True, showticklabels=True)\n",
    "Total_Monthly_Expenses_Chart.update_xaxes(title='Date',visible=True, showticklabels=True)\n",
    "\n",
    "Total_Monthly_Expenses_Chart.show()"
   ]
  },
  {
   "cell_type": "code",
   "execution_count": null,
   "metadata": {},
   "outputs": [],
   "source": [
    "\n",
    "\n"
   ]
  },
  {
   "cell_type": "markdown",
   "metadata": {},
   "source": [
    "#### Expenses Breakdown Chart"
   ]
  },
  {
   "cell_type": "code",
   "execution_count": null,
   "metadata": {},
   "outputs": [],
   "source": [
    "Expenses_Breakdown_Table = pd.pivot_table(df, values = ['amount'], index = ['category', 'year_month'], aggfunc=sum).reset_index()\n",
    "Expenses_Breakdown_Table.columns = [x.upper() for x in Expenses_Breakdown_Table.columns]\n",
    "Expenses_Breakdown_Table = Expenses_Breakdown_Table.rename(columns={'YEAR_MONTH': 'DATE'})\n",
    "Expenses_Breakdown_Table = Expenses_Breakdown_Table[['DATE', 'CATEGORY', 'AMOUNT']]\n"
   ]
  },
  {
   "cell_type": "code",
   "execution_count": null,
   "metadata": {},
   "outputs": [],
   "source": [
    "#Creation of a df with all dates within the range we have data for each category /\n",
    "#(e.g. for cash withdrawal there are no transactions between MArch 2020 and August 2020 /\n",
    "#so there is not data point in the graph for those dates and I have to fix that)\n",
    "\n",
    "Expenses_Breakdown_Table_All_Dates = Expenses_Breakdown_Table.set_index(\n",
    "    ['DATE', 'CATEGORY']\n",
    ").unstack(\n",
    "    fill_value=0\n",
    ").asfreq(\n",
    "    'M', fill_value=0\n",
    ").stack().sort_index(level=1).reset_index()\n",
    "\n",
    "Expenses_Breakdown_Table_All_Dates['DATE'] = pd.to_datetime(Expenses_Breakdown_Table_All_Dates['DATE'])\n",
    "Expenses_Breakdown_Table_All_Dates['DATE'] = Expenses_Breakdown_Table_All_Dates['DATE'].dt.strftime('%Y-%m')"
   ]
  },
  {
   "cell_type": "code",
   "execution_count": null,
   "metadata": {},
   "outputs": [],
   "source": [
    "#Appending all dates to the original df\n",
    "\n",
    "Expenses_Breakdown_Table_Final = Expenses_Breakdown_Table.append(Expenses_Breakdown_Table_All_Dates, ignore_index=True)\n",
    "Expenses_Breakdown_Table_Final = Expenses_Breakdown_Table_Final.drop_duplicates(subset = ['DATE', 'CATEGORY'], keep = 'first')\n",
    "Expenses_Breakdown_Table_Final = Expenses_Breakdown_Table_Final.sort_values(['DATE', 'CATEGORY'], ascending=[True, False],ignore_index=True)"
   ]
  },
  {
   "cell_type": "code",
   "execution_count": null,
   "metadata": {},
   "outputs": [],
   "source": [
    "#creating a df only for the latest date\n",
    "#I need it to add 0s in case in the latest date there was no transaction for a specific category\n",
    "#otherwise again the data point for the latest date will not appear in the chart\n",
    "#(before I fixed only the dates within the date range of the transactions, not the latest date)\n",
    "\n",
    "latest_date = Expenses_Breakdown_Table_Final['DATE'].max()\n",
    "df_latest_date = Expenses_Breakdown_Table_Final.loc[Expenses_Breakdown_Table_Final['DATE'] == latest_date]"
   ]
  },
  {
   "cell_type": "code",
   "execution_count": null,
   "metadata": {
    "scrolled": true
   },
   "outputs": [],
   "source": [
    "categories_lst = ['Travel','Transport','Transfer','Other','Materialistic Desire','Groceries','Gifts','Food','Entertainment','Cash Withdrawal','Rent&Bills','Personal Care','Sport']\n",
    "missing_cat_latest_date = pd.DataFrame({'CATEGORY': list(set(df_latest_date['CATEGORY']) ^ set(categories_lst))})\n",
    "missing_cat_latest_date['AMOUNT']=0.0\n",
    "missing_cat_latest_date['DATE']= df_latest_date['DATE'].max()\n",
    "missing_cat_latest_date = missing_cat_latest_date [['DATE', 'CATEGORY', 'AMOUNT']]\n",
    "missing_cat_latest_date"
   ]
  },
  {
   "cell_type": "code",
   "execution_count": null,
   "metadata": {},
   "outputs": [],
   "source": [
    "#Appending the categories with no transactions for the latest date to the final df for this chart\n",
    "\n",
    "Expenses_Breakdown_Table_Final = Expenses_Breakdown_Table_Final.append (missing_cat_latest_date)"
   ]
  },
  {
   "cell_type": "code",
   "execution_count": null,
   "metadata": {},
   "outputs": [],
   "source": [
    "Expenses_Breakdown_Chart = px.line(Expenses_Breakdown_Table_Final, x='DATE', y=\"AMOUNT\", title=\"Expenses Breakdown\", color = 'CATEGORY')\n",
    "Expenses_Breakdown_Chart.update_yaxes(title='Expenses (£)', visible=True, showticklabels=True)\n",
    "Expenses_Breakdown_Chart.update_xaxes(title='Date', visible=True, showticklabels=True)\n",
    "\n",
    "Expenses_Breakdown_Chart.show()"
   ]
  },
  {
   "cell_type": "code",
   "execution_count": null,
   "metadata": {},
   "outputs": [],
   "source": [
    "# Build App\n",
    "app = JupyterDash(__name__)\n",
    "\n",
    "app.layout = html.Div([\n",
    "    \n",
    "    html.Div([\n",
    "        html.H1(str(latest_date)+\" Personal Finance Summary\",style={'text-align':'center'}),\n",
    "        dcc.Graph(figure = Net_Worth_Chart)\n",
    "    ]),\n",
    "  \n",
    "    html.Div([\n",
    "        dcc.Graph(figure = Total_Monthly_Expenses_Chart)\n",
    "    ]),\n",
    "    \n",
    "    html.Div([\n",
    "        dcc.Graph(figure = Expenses_Breakdown_Chart)\n",
    "\n",
    "    ])\n",
    "])\n",
    "    \n",
    "# Run app and display result\n",
    "app.run_server(mode='external')\n",
    "\n",
    "#CLick on the link below to access the \"Personal Finances Summary\""
   ]
  },
  {
   "cell_type": "code",
   "execution_count": null,
   "metadata": {},
   "outputs": [],
   "source": [
    "\n",
    "\n",
    "\n",
    "\n",
    "\n"
   ]
  },
  {
   "cell_type": "markdown",
   "metadata": {},
   "source": [
    "TESTS"
   ]
  },
  {
   "cell_type": "code",
   "execution_count": null,
   "metadata": {},
   "outputs": [],
   "source": [
    "#follow to design charts\n",
    "#https://pbpython.com/plotly-dash-intro.html"
   ]
  },
  {
   "cell_type": "code",
   "execution_count": null,
   "metadata": {
    "scrolled": true
   },
   "outputs": [],
   "source": [
    "#df.loc[df['description'] == \"Uber Trip Help.uber.com\"]"
   ]
  },
  {
   "cell_type": "code",
   "execution_count": null,
   "metadata": {},
   "outputs": [],
   "source": [
    "#OLD WORKING CODE FOR THE EXPENSES BREAKDOWN CHART\n",
    "# Expenses_Breakdown_Table = pd.pivot_table(df, values = ['amount'], index = ['category', 'year_month'], aggfunc=sum).reset_index()\n",
    "# Expenses_Breakdown_Table.columns = [x.upper() for x in Expenses_Breakdown_Table.columns]\n",
    "# Expenses_Breakdown_Table = Expenses_Breakdown_Table.rename(columns={'YEAR_MONTH': 'DATE'})\n",
    "\n",
    "# Expenses_Breakdown_Table"
   ]
  },
  {
   "cell_type": "code",
   "execution_count": null,
   "metadata": {},
   "outputs": [],
   "source": [
    "# Expenses_Breakdown_Chart = px.line(Expenses_Breakdown_Table, x='DATE', y=\"AMOUNT\", title=\"Expenses Breakdown\", color = 'CATEGORY')\n",
    "# Expenses_Breakdown_Chart.update_yaxes(title='Expenses (£)', visible=True, showticklabels=True)\n",
    "# Expenses_Breakdown_Chart.update_xaxes(title='Date', visible=True, showticklabels=True)\n",
    "\n",
    "# Expenses_Breakdown_Chart.show()"
   ]
  },
  {
   "cell_type": "code",
   "execution_count": null,
   "metadata": {
    "scrolled": false
   },
   "outputs": [],
   "source": [
    "Expenses_Breakdown_Table_TEST1 = Expenses_Breakdown_Table.copy()\n",
    "Expenses_Breakdown_Table_TEST1 = Expenses_Breakdown_Table_TEST1[['DATE', 'CATEGORY', 'AMOUNT']]\n",
    "Expenses_Breakdown_Table_TEST1.head(20)"
   ]
  },
  {
   "cell_type": "code",
   "execution_count": null,
   "metadata": {
    "scrolled": true
   },
   "outputs": [],
   "source": [
    "Expenses_Breakdown_Table_TEST2 = Expenses_Breakdown_Table_TEST1.set_index(\n",
    "    ['DATE', 'CATEGORY']\n",
    ").unstack(\n",
    "    fill_value=0\n",
    ").asfreq(\n",
    "    'M', fill_value=0\n",
    ").stack().sort_index(level=1).reset_index()\n"
   ]
  },
  {
   "cell_type": "code",
   "execution_count": null,
   "metadata": {},
   "outputs": [],
   "source": [
    "Expenses_Breakdown_Table_TEST2['DATE'] = pd.to_datetime(Expenses_Breakdown_Table_TEST2['DATE'])\n",
    "Expenses_Breakdown_Table_TEST2['DATE'] = Expenses_Breakdown_Table_TEST2['DATE'].dt.strftime('%Y-%m')"
   ]
  },
  {
   "cell_type": "code",
   "execution_count": null,
   "metadata": {},
   "outputs": [],
   "source": [
    "Expenses_Breakdown_Table_TEST1.head(15)"
   ]
  },
  {
   "cell_type": "code",
   "execution_count": null,
   "metadata": {},
   "outputs": [],
   "source": [
    "Expenses_Breakdown_Table_TEST2.head(15)"
   ]
  },
  {
   "cell_type": "code",
   "execution_count": null,
   "metadata": {
    "scrolled": true
   },
   "outputs": [],
   "source": [
    "test3 = Expenses_Breakdown_Table_TEST1.append(Expenses_Breakdown_Table_TEST2, ignore_index=True)\n",
    "test3 = test3.drop_duplicates(subset = ['DATE', 'CATEGORY'], keep = 'first')\n",
    "test3 = test3.sort_values(['DATE', 'CATEGORY'], ascending=[True, False],ignore_index=True)\n",
    "\n",
    "test3.loc[test3['DATE'] == '2020-09']\n"
   ]
  },
  {
   "cell_type": "code",
   "execution_count": null,
   "metadata": {
    "scrolled": true
   },
   "outputs": [],
   "source": [
    "recent_date = test3['DATE'].max()\n",
    "df3 = test3.loc[test3['DATE'] == recent_date]\n",
    "df3"
   ]
  },
  {
   "cell_type": "code",
   "execution_count": null,
   "metadata": {},
   "outputs": [],
   "source": [
    "recent_date"
   ]
  },
  {
   "cell_type": "code",
   "execution_count": null,
   "metadata": {},
   "outputs": [],
   "source": [
    "lst = ['Travel','Transport','Transfer','Other','Materialistic Desire','Groceries','Gifts','Food','Entertainment','Cash Withdrawal','Rent&Bills','Personal Care','Sport']\n",
    "missing = pd.DataFrame({'CATEGORY': list(set(df3['CATEGORY']) ^ set(lst))})\n",
    "missing['AMOUNT']=0.0\n",
    "missing['DATE']= df3['DATE'].max()\n",
    "missing = missing [['DATE', 'CATEGORY', 'AMOUNT']]\n",
    "missing"
   ]
  },
  {
   "cell_type": "code",
   "execution_count": null,
   "metadata": {},
   "outputs": [],
   "source": [
    "test3 = test3.append (missing)"
   ]
  },
  {
   "cell_type": "code",
   "execution_count": null,
   "metadata": {},
   "outputs": [],
   "source": [
    "Test_Chart = px.line(test3, x='DATE', y=\"AMOUNT\", title=\"Expenses Breakdown\", color = 'CATEGORY')\n",
    "Test_Chart.update_yaxes(title='Expenses (£)', visible=True, showticklabels=True)\n",
    "Test_Chart.update_xaxes(title='Date', visible=True, showticklabels=True)\n",
    "\n",
    "Test_Chart.show()"
   ]
  },
  {
   "cell_type": "code",
   "execution_count": null,
   "metadata": {},
   "outputs": [],
   "source": [
    "Expenses_Breakdown_Chart.show()"
   ]
  },
  {
   "cell_type": "code",
   "execution_count": null,
   "metadata": {},
   "outputs": [],
   "source": []
  }
 ],
 "metadata": {
  "kernelspec": {
   "display_name": "Python 3",
   "language": "python",
   "name": "python3"
  },
  "language_info": {
   "codemirror_mode": {
    "name": "ipython",
    "version": 3
   },
   "file_extension": ".py",
   "mimetype": "text/x-python",
   "name": "python",
   "nbconvert_exporter": "python",
   "pygments_lexer": "ipython3",
   "version": "3.7.6"
  }
 },
 "nbformat": 4,
 "nbformat_minor": 4
}
